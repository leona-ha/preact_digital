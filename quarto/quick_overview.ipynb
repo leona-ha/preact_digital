{
 "cells": [
  {
   "cell_type": "raw",
   "metadata": {
    "vscode": {
     "languageId": "raw"
    }
   },
   "source": [
    "---\n",
    "title: \"Study Overview\"\n",
    "author: \n",
    "    - name: \"Leona Hammelrath\"\n",
    "      orcid: 0000-0002-9249-0881\n",
    "    - name: \"Tessa Meyer\"\n",
    "      orcid: 0009-0008-8008-9960\n",
    "date: \"3 Sept 2025\"\n",
    "format:\n",
    "  html:\n",
    "    toc: true\n",
    "    toc-location: right\n",
    "    toc-depth: 3\n",
    "    code-fold: false\n",
    "    code-summary: \"Code\"\n",
    "  pdf: default\n",
    "jupyter: python3\n",
    "---"
   ]
  },
  {
   "cell_type": "markdown",
   "metadata": {},
   "source": [
    "### Study design (PREACT-digital)\n",
    "\n",
    "![Study procedures for short and long study version](images/preact-digital_study-procedure_small.png){width=600}"
   ]
  }
 ],
 "metadata": {
  "language_info": {
   "name": "python"
  }
 },
 "nbformat": 4,
 "nbformat_minor": 2
}
