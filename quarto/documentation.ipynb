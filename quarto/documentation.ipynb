{
 "cells": [
  {
   "cell_type": "raw",
   "metadata": {
    "vscode": {
     "languageId": "raw"
    }
   },
   "source": [
    "---\n",
    "title: \"PREACT-digital: Feature Database Documentation\"\n",
    "author: \n",
    "    - name: \"Leona Hammelrath\"\n",
    "      orcid: 0000-0002-9249-0881\n",
    "    - name: \"Tessa Meyer\"\n",
    "      orcid: 0009-0008-8008-9960\n",
    "date: \"3 March 2025\"\n",
    "format:\n",
    "  html:\n",
    "    toc: true\n",
    "    toc-location: right\n",
    "    toc-depth: 3\n",
    "    code-fold: false\n",
    "    code-summary: \"Code\"\n",
    "  pdf: default\n",
    "jupyter: python3\n",
    "---"
   ]
  },
  {
   "cell_type": "markdown",
   "metadata": {},
   "source": [
    "## Introduction\n",
    "In the following sections, you find an overview of our datasets on the study server as well as a detailed description of variables and constructs. \n"
   ]
  },
  {
   "cell_type": "markdown",
   "metadata": {},
   "source": [
    "------------------"
   ]
  },
  {
   "cell_type": "markdown",
   "metadata": {},
   "source": [
    "::: {.callout-tip title=\"Glossary\" collapse=\"false\"} \n",
    "* **beep** = Timepoint where participants receive prompt to answer questions about their current mood, situation, etc. \n",
    "\n",
    "* **measurement burst** = Period (i.e. 2 weeks) where participants receive regular EMA questionnaires \n",
    "\n",
    "* **epoch** = Highest granularity of passive data. Epoch length depends on data source (i.e. 30 seconds for ECG data) \n",
    "\n",
    ":::\n"
   ]
  },
  {
   "cell_type": "markdown",
   "metadata": {},
   "source": [
    "## Data Structure \n",
    "\n",
    "**Folder Structure on High Performance Cluster (HPC)** [wip]"
   ]
  },
  {
   "cell_type": "code",
   "execution_count": null,
   "metadata": {},
   "outputs": [],
   "source": [
    "SP6/\n",
    "\t|- processed/\n",
    "\t\t|- passive/\n",
    "\t\t\t|- epoch \t\t\t\t\t\t# not aggregated; most finegrained resolution\n",
    "\t\t\t\t|- activity_epoch\n",
    "\t\t\t\t|- heart_rate_epoch\n",
    "\t\t\t\t|- ecg_epoch\n",
    "\t\t\t\t|- gps_epoch\n",
    "\t\t\t|- daily \t\t\t\t\t\t# daily aggregates\n",
    "\t\t\t\t|- activity_daily\n",
    "\t\t\t\t|- heart_rate_daily\n",
    "\t\t\t\t|- ecg_daily\n",
    "\t\t\t\t|- gps_daily\n",
    "\t\t|- ema\n",
    "\t\t\t\t|- ema_beep\t\t\t\t\t# not aggregated; most finegrained resolution\t\n",
    "\t\t\t\t|- ema_daily\t\t\t\t# daily aggregate\n",
    "\t\t\t\t|- ema_burst \t\t\t\t# burst aggregate\n",
    "\t\t\t\t|- ema_meta \t\t\t\t# technical meta data\n",
    "\t\t|- ecg\n",
    "\t\t\t\t|- ecg_raw\t\t\t\t\t# raw data (sampling rate: 300 Hz; 9000 data points/30sec)\n",
    "\t\t\t\t|- ecg_processed\t\t\t# processed, e.g. heart rate variability (hrv) \n",
    "\t\t|- meta\n",
    "\t\t\t\t|- monitoring\t\t\t\t# study monitoring"
   ]
  },
  {
   "cell_type": "markdown",
   "metadata": {},
   "source": [
    "## EMA Data"
   ]
  },
  {
   "cell_type": "markdown",
   "metadata": {},
   "source": [
    "This section outlines the EMA data sets ([files](#files)) in detail and provides a thorough description of the eight [EMA constructs](#emaconstructs) and a [item-level overview](#emaconstructs)."
   ]
  },
  {
   "cell_type": "markdown",
   "metadata": {},
   "source": [
    "### Data sets"
   ]
  },
  {
   "cell_type": "markdown",
   "metadata": {},
   "source": [
    "##### Files:{#files}\n",
    "\n",
    "* `ema_beep.pkl`\n",
    "* `ema_meta.pkl`"
   ]
  },
  {
   "cell_type": "markdown",
   "metadata": {},
   "source": [
    "**Details** `ema_content.pkl` **file:**"
   ]
  },
  {
   "cell_type": "markdown",
   "metadata": {},
   "source": [
    "<details>\n",
    "  <summary><strong>Show details</strong></summary>\n",
    "\n",
    "<div style=\"max-width: 800px; font-size: 14px;\">\n",
    "\n",
    "| No. | Column name | Description | Data type | Scale level | Variable Level |\n",
    "|-----|-------------|-------------|-----------|-----------|---------|\n",
    "| 1   | `id` | Unique identifier wearable and ema data within subproject 6 (SP6) | `str` |  |  |\n",
    "| 2   | `for_id` | Unique identifier across all PREACT subprojects and redcap | `str` |  | |\n",
    "| 3   | `timestamp_item_completion` | Timestamp at which a single item was completed | `datetime64` | interval | |\n",
    "| 4   | `timestamp_beep_completion` | Timestamp at which a beep was completed | `datetime64` | interval | |\n",
    "| 5   | `timestamp_beep_expiration` | Timestamp at which the processing of the beep has expired (a beep expires after 30 min) | `datetime64` | interval | |\n",
    "| 6   | `measurment_burst` | Measurement burst describes the measurement point in the longitudinal study [Baseline (T0), after 20 therapy sessions (T20), or after therapy end respectively 365 days after therapy start (TPost)] | `int` | ordinal | 0 = T0 <br> 1 = T20 <br> 2 = TPost|\n",
    "| 7   | `schedule_chronotype` | Depending on their individual sleep-wake rhythm participants can choose to receive beeps between 07:30 and 21:30 (lark) or 09:30 and 22:30 (owl) | `int` | nominal | 24 = T0 lark <br> 25 = T0 owl <br> 33 = T20 lark <br> 34 = T20 owl <br> 38 = TPost lark <br> 39 = TPost owl |\n",
    "| 8   | `response` | Chosen response by participant | `int` | ordinal, nominal, binary | |\n",
    "| 9   | `item` | Question/item title | `str` |  |  |\n",
    "| 10   | `beep_per_person_id` | Unique beep identifier. Date and number of beep per ID | `str` |  |  |\n",
    "| 11  | `date` | Date on which the question/item was generated | `datetime64` | interval  |  |\n",
    "| 12  | `study_version` | Study version (short version: includes Baseline (T0), long version: includes Baseline (T0), T20 and TPost) | `int` | nominal | 1= long <br> 2 = short |\n",
    "| 13  | `ema_burst_start` | Absolute start EMA measurement burst (i.e. defined start according to study protocol) | `datetime64` | interval  | |\n",
    "| 14  | `ema_burst_end` | Absolute end EMA measurement burst (i.e. defined end according to study protocol) | `datetime64` | interval  | |\n",
    "| 15  | `season` | Describes the four seasons | `int` | nominal  | 1 = Spring <br> 2 = Summer <br> 3 = Fall <br> 4 = Winter |\n",
    "| 16  | `time_of_day` | Time of day stratified into five categories (Early Morning = 00:00 - 00:00, Morning = 00:00 - 00:00, Afternoon = 00:00 - 00:00, Evening = 00:00 - 00:00, Night = 00:00 - 00:00) | `int` | nominal  | 1 = Early Morning <br> 2 = Morning <br> 3 = Afternoon <br> 4 = Evening <br> 5 = Night |\n",
    "| 17  | `weekend` | Does the timestamp in the time series describes a day at the weekend?  | `int` | nominal  | 0 = No <br> 1 = Yes  | \n",
    "| 18  | `nr_beep_daily` | Number of questionnaire/beep within a day  | `int` | ordinal  | 1 - 8 |\n",
    "| 19  | `n_beeps_completed` | Number of questionnaires/beeps completed by a person within a day  | `int` | ordinal  | 1 - 9 |\n",
    "| 20  | `ema_relat_burst_start` | Relative start EMA measurement burst (i.e. actual start) | `datetime64` | interval  | |\n",
    "| 21 | `ema_relat_burst_end` | Relative end EMA measurement burst (i.e. actual end) | `datetime64` | interval  | |\n",
    "| 22 | `absolute_day_index` | Day since expected (absolute) start | `int` | ratio  | 1 - 16|\n",
    "| 23 | `relative_day_index` | Day since actual (relative) start | `int` | ratio  | 1 - 16 |\n",
    "\n",
    "  </table>\n",
    "   </div>\n",
    "</details>\n"
   ]
  },
  {
   "cell_type": "markdown",
   "metadata": {},
   "source": [
    "**Details** `ema_meta.pkl` **file:**"
   ]
  },
  {
   "cell_type": "markdown",
   "metadata": {},
   "source": [
    "<details>\n",
    "  <summary><strong>Show details</strong></summary>\n",
    "\n",
    "<div style=\"max-width: 800px; font-size: 14px;\">\n",
    "\n",
    "| No. | Column name | Description | Data type | Scale level | Variable Level |\n",
    "|-----|-------------|-------------|-----------|-----------|---------|\n",
    "| 1   | `id` | Unique identifier wearable and ema data within subproject 6 (SP6) | `str` |  |  |\n",
    "| 2   | `for_id` | Unique identifier across all PREACT subprojects and redcap | `str` |  | |\n",
    "| 3   | `response_text` | Response displayed on device | `str` |  | |\n",
    "| 4   | `item_code_map` | Numerical item code mapping | `int` | [insert] | nominal |\n",
    "| 5   | `beep_type` |  | `int` |  | nominal |\n",
    "| 6   | `beep_type_name` | Name of the questionnaire | `str` |  | |\n",
    "| 7   | `item_order` | Order in which the items are displayed | `int` | 0 - 8 | |\n",
    "| 8   | `beep_num_run` | How many times a beep was opend before completion. Unique per answer. One beep can have multiple runs until completion| `int` |  | |\n",
    "\n",
    "  </table>\n",
    "   </div>\n",
    "</details>\n"
   ]
  },
  {
   "cell_type": "markdown",
   "metadata": {},
   "source": [
    "### Methods: Hierarchical Data Structure\n",
    "\n",
    "1. **Level 1: Measurements (Observations)**\n",
    "   * Each person records data 8x/day over 14 days\n",
    "   * This results in 112 measurements per wave (8x14)\n",
    "     \n",
    "2. **Level 2: Days**\n",
    "   * Measurements (Level 1) are nested within days (Level 2)\n",
    "   * Each wave has 14 days\n",
    "     \n",
    "3. **Level 3: Waves (Measurement points)**\n",
    "   * Each person goes thorugh three waves (long version)\n",
    "   * Days (Level 2) are nested within waves (Level 3)\n",
    "  \n",
    "4. **Level 4: Individuals (Participants)**\n",
    "   * Waves (Level 3) are nested within participants (Level 4)"
   ]
  },
  {
   "cell_type": "raw",
   "metadata": {
    "vscode": {
     "languageId": "raw"
    }
   },
   "source": [
    "---"
   ]
  },
  {
   "cell_type": "markdown",
   "metadata": {},
   "source": [
    "### EMA constructs and item-level overview {#emaconstructs}"
   ]
  },
  {
   "cell_type": "markdown",
   "metadata": {},
   "source": [
    "The EMA measurement includes the following constructs:\n",
    "\n",
    "1. [Affect](#affect)\n",
    "2. [Emotion regulation](#emotion-regulation)\n",
    "3. [Situational context](#situational-context)\n",
    "4. [Significant events](#significant-events)\n",
    "5. [Social context](#social-context)\n",
    "6. [Therapeutic agency](#therapeutic-agency)\n",
    "7. [Physical fitness](#physical-fitness)\n",
    "8. [ECG control](#ecg-control)"
   ]
  },
  {
   "cell_type": "markdown",
   "metadata": {},
   "source": [
    "#### Affect {#affect}\n",
    "\n",
    "* Description: At each beep, participants were asked about their current affective state\n",
    "  \n",
    "* Construct: PANAS-X subscales [Haney et al. (2023)](https://doi.org/10.1037/pas0001231)\n",
    "  \n",
    "* 17 Items\n"
   ]
  },
  {
   "cell_type": "markdown",
   "metadata": {},
   "source": [
    "<details>\n",
    "  <summary><strong>Show Items</strong></summary>\n",
    "  \n",
    "\n",
    "<div style=\"max-width: 800px; font-size: 14px;\">\n",
    "\n",
    "|  Variable  |  Item | Scale  | Scale Endpoints  | Measurement Time  |   \n",
    "|---------|-------|--------|------------------|-------------------|\n",
    "|         | How ... do you feel right now? |   | | |\n",
    "| `anxious`  |anxious   | 1-2-3-4-5-6-7   | not at all - very much  | all beeps  |\n",
    "| `nervous`  |nervous   | 1-2-3-4-5-6-7   | not at all - very much  | all beeps  |\n",
    "| `attentive`  |attentive   | 1-2-3-4-5-6-7   | not at all - very much  | all beeps  |\n",
    "| `relaxed`  |relaxed   | 1-2-3-4-5-6-7   | not at all - very much  | all beeps  |\n",
    "| `calm`  |calm   | 1-2-3-4-5-6-7   | not at all - very much  | all beeps  |\n",
    "| `irritable`  | irritable   | 1-2-3-4-5-6-7   | not at all - very much  | all beeps  |\n",
    "| `angry`  | angry   | 1-2-3-4-5-6-7   | not at all - very much  | all beeps  |\n",
    "| `fatigue`  | fatigue   | 1-2-3-4-5-6-7   | not at all - very much  | all beeps  |\n",
    "| `cheerful`  | cheerful   | 1-2-3-4-5-6-7   | not at all - very much  | all beeps  |\n",
    "| `happy`  | happy   | 1-2-3-4-5-6-7   | not at all - very much  | all beeps  |\n",
    "| `ashamed`  | ashamed   | 1-2-3-4-5-6-7   | not at all - very much  | all beeps  |\n",
    "| `dissatisfied_myself`  | dissatisfied with myself   | 1-2-3-4-5-6-7   | not at all - very much  | all beeps  |\n",
    "| `self_confident`  | self-confident   | 1-2-3-4-5-6-7   | not at all - very much  | all beeps  |\n",
    "| `shy`  | shy   | 1-2-3-4-5-6-7   | not at all - very much  | all beeps  |\n",
    "| `downcast`  | downcast   | 1-2-3-4-5-6-7   | not at all - very much  | all beeps  |\n",
    "| `sad`  | sad   | 1-2-3-4-5-6-7   | not at all - very much  | all beeps  |\n",
    "| `lonely`  | lonely   | 1-2-3-4-5-6-7   | not at all - very much  | all beeps  |\n",
    "\n",
    ":  {.striped .hover}\n",
    "\n",
    "  </table>\n",
    "   </div>\n",
    "</details>\n",
    "\n"
   ]
  },
  {
   "cell_type": "markdown",
   "metadata": {},
   "source": [
    "#### Emotion regulation {#emotion-regulation}\n",
    "\n",
    "* Description: At each beep, participants were asked to rate the intensity and controllability of their most negative thought since the last beep. Then, we assessed the use of different ER strategies since the last beep\n",
    "\n",
    "* Construct: RESS-EMA scale [Medland et al. (2020)](https://doi.org/10.1027/1015-5759/a000595)\n",
    "  \n",
    "* 6 Items (covering reappraisal, rumination, suppression, distraction, relaxation, acceptance)"
   ]
  },
  {
   "cell_type": "markdown",
   "metadata": {},
   "source": [
    "<details>\n",
    "  <summary><strong>Show Items</strong></summary>\n",
    "\n",
    "<div style=\"max-width: 800px; font-size: 14px;\">\n",
    "\n",
    "|  Variable |  Item | Scale  | Scale Endpoints  | Measurement Time  |   \n",
    "|---------|-------|--------|------------------|-------------------|\n",
    "|         | Think about the strongest negative feeling since the last beep [since waking up]. | |  |  |\n",
    "| `er_intensity`  |How intense was this feeling?   | 1-2-3-4-5-6-7<br> (1 = neutral)   | not at all - very much  | all beeps (except the first of the day)  |\n",
    "| `er_intensity_morning`  |How intense was this feeling?   | 1-2-3-4-5-6-7<br> (1 = neutral)   | not at all - very much  | first beep of the day   |\n",
    "| `er_control`  |How controllable was the situation that triggered this feeling?   | 1-2-3-4-5-6-7<br> (4 = neutral)   | not at all - very much  | all beeps (except the first of the day)    |\n",
    "| `er_control_morning`  |How controllable was the situation that triggered this feeling?   | 1-2-3-4-5-6-7<br> (4 = neutral)   | not at all - very much  | first beep of the day |\n",
    "|         |  As a reaction to the negative feeling ... | |  |  |\n",
    "| `er_relaxation` |I tried to breathe deeply   | 1-2-3-4-5-6-7  | not at all - very much  | all beeps  |\n",
    "| `er_rumination` |I kept thinking about what was bothering me   | 1-2-3-4-5-6-7  | not at all - very much  | all beeps  |\n",
    "| `er_reappraisal` |I considered the situation from different perspectives   | 1-2-3-4-5-6-7  | not at all - very much  | all beeps  |\n",
    "| `er_distraction` |I tried to distract myself   | 1-2-3-4-5-6-7  | not at all - very much  | all beeps  |\n",
    "| `er_suppression` |I tried to hide my feelings   | 1-2-3-4-5-6-7  | not at all - very much  | all beeps  |\n",
    "| `er_acceptance` |I tried to accept the situation   | 1-2-3-4-5-6-7  | not at all - very much  | all beeps  |\n",
    "\n",
    ":  {.striped .hover}\n",
    "\n",
    "  </table>\n",
    "   </div>\n",
    "</details>"
   ]
  },
  {
   "cell_type": "markdown",
   "metadata": {},
   "source": [
    "#### Situational Context {#situational-context}\n",
    "\n",
    "* Description: At each beep, participants were asked to specify activities they had pursued in the preceding 2 hours from a given set of 9 common activities. Participants were able to select multiple options simultaneously. Subsequently, they were asked to evaluate how much they enjoyed the respective activities\n",
    "\n",
    "* Construct: Self-constructed, based on the DIAMONDS scale [Rauthmann & Sherman (2016)](https://doi.org/10.1027/1015-5759/a000245) and the WARN-D study protocol [Fried et al. (2022)](https://osf.io/preprints/psyarxiv/9qcvs_v1), a similar longitudinal digital phenotyping study. We aimed to find a balance between sparsity of items and high degree of situational coverage.  \n",
    "  \n",
    "* 2 Items "
   ]
  },
  {
   "cell_type": "markdown",
   "metadata": {},
   "source": [
    "<details>\n",
    "  <summary><strong>Show Items</strong></summary>\n",
    "  \n",
    "\n",
    "<div style=\"max-width: 800px; font-size: 14px;\">\n",
    "\n",
    "\n",
    "|  Variable |  Item | Scale  | Scale Endpoints  | Measurement Time  |   \n",
    "|---------|-------|---------|-----------------|-------------------|\n",
    "|         | How did you spent the time since the last beep [since waking up]? <br> (Multiple answers possible) |    | | |\n",
    "| `situation_1`  |  [   ] Work or study <br>  [   ] Housework or errands <br> [  ] Caring for children/relatives <br> [   ] Eating/drinking/personal hygiene <br> [   ] On the move (e.g., in the subway) <br> [   ] Smartphone/social media <br> [   ] Leisure activity, rather passive (e.g., watching a movie, reading) <br> [   ] Leisure activity, rather active (e.g., sports, outings) <br> [   ] Something else  | |   | all beeps (except the first of the day)  |\n",
    "| `situation_1_morning`  |  cf. above | | | first beep of the day  |\n",
    "| `situation_2`  |  How much did you enjoy this activity? | -2, -1, 0, 1, 2 | not at all - very much | all beeps (except the first of the day)  |\n",
    "| `situation_2_morning`  |  cf. above  | -2, -1, 0, 1, 2 | not at all - very much | first beep of the day  |\n",
    "\n",
    "\n",
    ":  {.striped .hover}\n",
    "\n",
    "  </table>\n",
    "   </div>\n",
    "</details>"
   ]
  },
  {
   "cell_type": "markdown",
   "metadata": {},
   "source": [
    "#### Significant Events {#significant-events}\n",
    "\n",
    "* Description: Participants were asked to think about the most important event since the last beep and how pleasant they perceived it\n",
    "\n",
    "* Construct: Self-constructed\n",
    "  \n",
    "* 1 Items "
   ]
  },
  {
   "cell_type": "markdown",
   "metadata": {},
   "source": [
    "<details>\n",
    "  <summary><strong>Show Items</strong></summary>\n",
    "\n",
    "<div style=\"max-width: 800px; font-size: 14px;\">\n",
    "\n",
    "|  Variable |  Item | Scale  | Scale Endpoints  | Measurement Time  |   \n",
    "|---------|-------|---------|-----------------|-------------------|\n",
    "| `event_general`  | Think of the most significant moment (situation/experience) since the last survey. How did you perceive it? | -2, -1, 0, 1, 2  | very unpleasant - very pleasant | all beeps (except the first of the day) |\n",
    "| `event_general_morning`  | Think of the most significant moment (situation/experience) since waking up. How did you perceive it? | -2, -1, 0, 1, 2  | very unpleasant - very pleasant | first beep of the day |\n",
    "\n",
    ":  {.striped .hover}\n",
    "\n",
    "  </table>\n",
    "   </div>\n",
    "</details>"
   ]
  },
  {
   "cell_type": "markdown",
   "metadata": {},
   "source": [
    "#### Social context {#social-context}\n",
    "\n",
    "* Description: Participants were asked if they had social contacts since the last beep, how (online/ in person/ phone) and how agreeable the contact was. \n",
    "\n",
    "* Self-constructed\n",
    "  \n",
    "* 3 Items "
   ]
  },
  {
   "cell_type": "markdown",
   "metadata": {},
   "source": [
    "<details>\n",
    "  <summary><strong>Show Items</strong></summary>\n",
    "\n",
    "<div style=\"max-width: 800px; font-size: 14px;\">\n",
    "\n",
    "|  Variable |  Item | Scale  | Scale Endpoints  | Measurement Time  |   \n",
    "|---------|-------|---------|-----------------|-------------------|\n",
    "| `event_social_1`  | Have you had social contacts since the last survey? | binary: <br> yes/no  | | all beeps (except the first of the day) |\n",
    "| `event_social_1_morning`  | Have you had social contacts since waking up? | binary: <br> yes/no  | | first beep of the day |\n",
    "| `event_social_2`  | How did the social contact take place? | multiple choice: <br> [   ] online <br> [   ] by phone <br> [   ] in person | | all beeps |\n",
    "| `event_social_3`  | How did you experience the social contacts? | -2, -1, 0, 1, 2 | very unpleasant - very pleasant | all beeps |\n",
    "\n",
    ":  {.striped .hover}\n",
    "\n",
    "  </table>\n",
    "   </div>\n",
    "</details>"
   ]
  },
  {
   "cell_type": "markdown",
   "metadata": {},
   "source": [
    "#### Therapeutic Agency (TA) {#therapeutic-agency}\n",
    "\n",
    "* Description: Participants were asked about Therapeutic Agency (TA) in everyday life\n",
    "\n",
    "* Construct: Self-constructed based on the Therapeutic Agency Inventory (TAI) [Huber et al. (2019)](https://pubmed.ncbi.nlm.nih.gov/29557306/). The original TAI contains 3 subscales, covering in-session activities, passivity towards the therapist and out-of-session activities. As we were interested in assessing therapeutic agency in everyday life, our TAI-EMA items are based on the “out-of-session activities” subscales and cover cognitive and behavioral aspects of TA\n",
    "\n",
    "* 4 Items "
   ]
  },
  {
   "cell_type": "markdown",
   "metadata": {},
   "source": [
    "<details>\n",
    "  <summary><strong>Show Items</strong></summary>\n",
    "\n",
    "<div style=\"max-width: 800px; font-size: 14px;\">\n",
    "\n",
    "|  Variable |  Item | Scale  | Scale Endpoints  | Measurement Time  |   \n",
    "|---------|-------|---------|-----------------|-------------------|\n",
    "|         | Prompted by my therapy today, I have ... / Today I have ... |   | | |\n",
    "| `ta_behavioral_1`  |  ... implemented ideas or tasks from therapy | 1-2-3-4-5-6-7  | not at all - very much    | 1x/day, 8th beep |\n",
    "| `ta_behavioral_2`  |  ... tried to think differently about things | 1-2-3-4-5-6-7  | not at all - very much | 1x/day, 8th beep  |\n",
    "| `ta_cognitive_1`  | ... thought about something that was discussed in therapy | 1-2-3-4-5-6-7 | not at all - very much   | 1x/day, 8th beep |\n",
    "| `ta_cognitive_2`  | ... done something to improve my situation | 1-2-3-4-5-6-7 | not at all - very much | 1x/day, 8th beep |\n",
    "\n",
    ":  {.striped .hover}\n",
    "\n",
    "  </table>\n",
    "   </div>\n",
    "</details>"
   ]
  },
  {
   "cell_type": "markdown",
   "metadata": {},
   "source": [
    "#### Physical Fitness {#physical-fitness}\n",
    "\n",
    "* Description: Participants were asked how physically healthy they had felt today on the last beep of the day\n",
    "\n",
    "* Construct: Self-constructed \n",
    "\n",
    "* 1 Item"
   ]
  },
  {
   "cell_type": "markdown",
   "metadata": {},
   "source": [
    "<details>\n",
    "  <summary><strong>Show Items</strong></summary>\n",
    "\n",
    "<div style=\"max-width: 800px; font-size: 14px;\">\n",
    "\n",
    "|  Variable |  Item | Scale  | Scale Endpoints  | Measurement Time  |   \n",
    "|---------|-------|---------|-----------------|-------------------|\n",
    "| `physical_health`  | How physically healthy did you feel today? | -2, -1, 0, 1, 2  | worse than usual / normal / better than usual   | 1x/day, 8th beep |\n",
    "\n",
    "\n",
    ":  {.striped .hover}\n",
    "\n",
    "  </table>\n",
    "   </div>\n",
    "</details>"
   ]
  },
  {
   "cell_type": "raw",
   "metadata": {
    "vscode": {
     "languageId": "raw"
    }
   },
   "source": [
    "#### ECG Control {#ecg-control}\n",
    "\n",
    "* Description: During measurement bursts, patients were asked twice per day to conduct a resting-state ECG on their Scanwatch. To control for potential confounders influencing the signal, we asked if they had consumed nicotine, caffeine or alcohol or had a heavy meal in the last 30 minutes\n",
    "\n",
    "* Construct: Self-constructed \n",
    "\n",
    "* 1 Item"
   ]
  },
  {
   "cell_type": "markdown",
   "metadata": {},
   "source": [
    "<details>\n",
    "  <summary><strong>Show Items</strong></summary>\n",
    "\n",
    "<div style=\"max-width: 800px; font-size: 14px;\">\n",
    "\n",
    "|  Variable |  Item | Scale  | Scale Endpoints  | Measurement Time  |   \n",
    "|---------|-------|---------|-----------------|-------------------|\n",
    "| `ecg_control`  |  Within the last 30 minutes, did you ... <br> - drink coffee or alcohol? <br> - smoke? <br> - eat a heavy meal? | binary: <br> yes/no  |    | 2x/day, 1th and 5th beep |\n",
    "\n",
    "\n",
    ":  {.striped .hover}\n",
    "\n",
    "  </table>\n",
    "   </div>\n",
    "</details>"
   ]
  },
  {
   "cell_type": "markdown",
   "metadata": {},
   "source": [
    "## Passive Sensor Data\n",
    "\n",
    "This section outlines the passive sensor data set ([files](#files)) in detail and provides a thorough description of the different wearable modalities (heartrate, acivity, sleep, GPS). "
   ]
  },
  {
   "cell_type": "markdown",
   "metadata": {},
   "source": [
    "### Data sets"
   ]
  },
  {
   "cell_type": "markdown",
   "metadata": {},
   "source": [
    "##### Files:{#files}\n",
    "\n",
    "* `passive_data.feather`\n"
   ]
  },
  {
   "cell_type": "markdown",
   "metadata": {},
   "source": [
    "**Details** `passive_data.feather` **file:**"
   ]
  },
  {
   "cell_type": "markdown",
   "metadata": {},
   "source": [
    "<details>\n",
    "  <summary><strong>Show details</strong></summary>\n",
    "\n",
    "<div style=\"max-width: 800px; font-size: 14px;\">\n",
    "\n",
    "| No. | Column name | Description | Data type | Scale level | Variable Level |\n",
    "|-----|-------------|-------------|-----------|-----------|---------|\n",
    "| 1   | `id` | Unique identifier wearable and ema data within subproject 6 (SP6) | `str` |  |  |\n",
    "| 2   | `for_id` | Unique identifier across all PREACT subprojects and redcap | `str` |  | |\n",
    "| 3   | `modality` | Type of modality | `str` | categorical | |\n",
    "| 4   | `timestamp_start` | Timestamp at which the specific modality recording starts | `datetime64` | interval | |\n",
    "| 5   | `timestamp_end` | Timestamp at which the specific modality recording ends | `datetime64` | interval | |\n",
    "| 6   | `time_interval` | Duration recording | `str` |  | |\n",
    "| 7   | `float value` | Variable level of the modality  | `float` |  | |\n",
    "| 8   | `boolean_value` | Variable level of the modality  | `boolean` |  | |\n",
    "| 9   | `start_date` | Start date of recording  | `datetime64` |  | |\n",
    "| 10   | `start_hour` | Start hour of recording  | `datetime64` |  | |\n",
    "| 11  | `study_version`  | Study version (short version: includes Baseline (T0), long version: includes Baseline (T0), T20 and TPost) | `int` | nominal | 1= long <br> 2 = short |\n",
    "  </table>\n",
    "   </div>\n",
    "</details>\n"
   ]
  },
  {
   "cell_type": "markdown",
   "metadata": {},
   "source": [
    "#### Heartrate\n",
    "\n",
    "<details>\n",
    "  <summary><strong>Show details</strong></summary>\n",
    "\n",
    "<div style=\"max-width: 800px; font-size: 14px;\">\n",
    "\n",
    "| No. | Modality | Device | Data type | Sampling Rate | Scale level | Features |\n",
    "|-----|-------------|-------------|-----------|-----------|---------|---------|\n",
    "| 1   | `heartrate_PPG` | Withings Scanwatch | |  |  | |\n",
    "| 2   | `rmssd` | Withings Scanwatch | |  |  | |\n",
    "  </table>\n",
    "   </div>\n",
    "</details>\n",
    "\n",
    "\n",
    "#### Activity\n",
    "\n",
    "<details>\n",
    "  <summary><strong>Show details</strong></summary>\n",
    "\n",
    "<div style=\"max-width: 800px; font-size: 14px;\">\n",
    "\n",
    "| No. | Modality | Device | Data type | Scale level | Features |\n",
    "|-----|-------------|-------------|-----------|-----------|---------|\n",
    "| 1   | `Steps` | Withings Scanwatch | |  |  |\n",
    "| 2   | `ActivityType` | Withings Scanwatch | |  |  |\n",
    "| 3   | `ActivityBinary` | Withings Scanwatch | |  |  |\n",
    "| 4   | `RunBinary` | Withings Scanwatch | |  |  |\n",
    "| 5   | `BikeBinary` | Withings Scanwatch | |  |  |\n",
    "| 6   | `WalkBinary` | Withings Scanwatch | |  |  |\n",
    "| 7   | `FloorsClimed` | Withings Scanwatch | |  |  |\n",
    "| 8   | `ElevationGain` | Withings Scanwatch | |  |  |\n",
    "| 9   | `ElevationGain` | Withings Scanwatch | |  |  |\n",
    "| 10   | `ActiveBurnedCalories` | Withings Scanwatch | |  |  |\n",
    "| 11   | `ActiveTypeDetail1` | Withings Scanwatch | |  |  |\n",
    "| 12   | `ActiveTypeDetail2` | Withings Scanwatch | |  |  |\n",
    "  </table>\n",
    "   </div>\n",
    "</details>\n"
   ]
  },
  {
   "cell_type": "markdown",
   "metadata": {},
   "source": [
    "**Steps: Daily Aggregates**\n",
    "\n",
    "Daily Features inspired by [insert RADAR study reference]\n",
    "\n",
    "File name:  `steps_daily`"
   ]
  },
  {
   "cell_type": "markdown",
   "metadata": {},
   "source": [
    "<details>\n",
    "  <summary><strong>Show details</strong></summary>\n",
    "\n",
    "<div style=\"max-width: 800px; font-size: 14px;\">\n",
    "\n",
    "| No. | Column Name | Description |\n",
    "|-----|-------------|-------------|\n",
    "|  1  | `id` | Unique identifier wearable and ema data within subproject 6 (SP6) |\n",
    "|  2  |`for_id` | Unique identifier across all PREACT subprojects and redcap |\n",
    "|  3  |`date` | Day timestamp (floor to day) UTC |\n",
    "|  4  | `n_steps_day` | Total number of walked steps within the day |\n",
    "|  5  | `spm_25_steps` | 25th percentile of daily steps per minute distribution |\n",
    "|  6  | `spm_50_steps` | 50th percentile of daily steps per minute distribution |\n",
    "|  7  | `spm_75_steps` | 75th percentile of daily steps per minute distribution |\n",
    "|  8  | `spm_max_steps` | Maximum steps per minute along all day |\n",
    "|  9  | `spm_count_steps` | Number of minutes with step data available |\n",
    "|  10 | `spm_mean_steps` | Mean steps per minute along all day (among available records) |\n",
    "|  11 | `spm_std_steps` | Standard deviation of steps per minute along all day |\n",
    "|  12 | `spm_skew_steps` | Skewness of steps per minute along all day |\n",
    "|  13 | `spm_kurtosis_steps` | Kurtosis of steps per minute along all day |\n",
    "|  14 | `night_sum_steps` | Sum of steps per minute during nighttime (00:00-05:59) |\n",
    "|  15 | `night_mean_steps` | Mean steps per minute during nighttime (00:00-05:59) |\n",
    "|  16 | `n_hour_steps` | Mean of hourly step sums (sum of steps per minute, averaged by hour) |\n",
    "|  17 | `spm_max_avghr_steps` | Maximum steps per minute, averaged by hour |\n",
    "|  18 | `spm_mean_avghr_steps` | Mean steps per minute, averaged by hour |\n",
    "|  19 | `spm_std_avghr_steps` | Standard deviation of steps per minute, averaged by hour |\n",
    "|  20 | `spm_skew_avghr_steps` | Skewness of steps per minute, averaged by hour |\n",
    "|  21 | `spm_kurtosis_avghr_steps` | Kurtosis of steps per minute, averaged by hour |\n",
    "|  22 | `n_steps_activehr_steps` | Maximum of the hourly sum of steps along all day |\n",
    "|  23 | `timestamp_max_activehr_steps` | Most active hour (hour with maximum hourly sum of steps) |\n",
    "|  24 | `max_spm_activehr_steps` | Maximum step cadence during the most active hour |\n",
    "|  25 | `mean_spm_activehr_steps` | Average step cadence during the most active hour |\n",
    "|  26 | `dailysteps_25perc_steps` | Hour at which 25th percentile of daily steps occurred (cumulative) |\n",
    "|  27 | `dailysteps_50perc_steps` | Hour at which 50th percentile of daily steps occurred (cumulative) |\n",
    "|  28 | `dailysteps_75perc_steps` | Hour at which 75th percentile of daily steps occurred |\n",
    "\n",
    "\n",
    "  </table>\n",
    "   </div>\n",
    "</details>\n"
   ]
  },
  {
   "cell_type": "markdown",
   "metadata": {},
   "source": [
    "#### Sleep"
   ]
  },
  {
   "cell_type": "markdown",
   "metadata": {},
   "source": [
    "#### GPS"
   ]
  },
  {
   "cell_type": "markdown",
   "metadata": {},
   "source": [
    "## ECG Data"
   ]
  },
  {
   "cell_type": "markdown",
   "metadata": {},
   "source": [
    "### Data sets"
   ]
  },
  {
   "cell_type": "markdown",
   "metadata": {},
   "source": []
  }
 ],
 "metadata": {
  "kernelspec": {
   "display_name": "TessaPyEnv",
   "language": "python",
   "name": "python3"
  },
  "language_info": {
   "codemirror_mode": {
    "name": "ipython",
    "version": 3
   },
   "file_extension": ".py",
   "mimetype": "text/x-python",
   "name": "python",
   "nbconvert_exporter": "python",
   "pygments_lexer": "ipython3",
   "version": "3.10.16"
  }
 },
 "nbformat": 4,
 "nbformat_minor": 2
}
