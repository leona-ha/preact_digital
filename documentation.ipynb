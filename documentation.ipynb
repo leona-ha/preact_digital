{
 "cells": [
  {
   "cell_type": "raw",
   "metadata": {
    "vscode": {
     "languageId": "raw"
    }
   },
   "source": [
    "---\n",
    "title: \"Preact Digital: Feature Database Documentation\"\n",
    "author: \n",
    "    - name: \"Leona Hammelrath\"\n",
    "      orcid: 0000-0002-9249-0881\n",
    "    - name: \"Tessa Meyer\"\n",
    "      orcid: 0009-0008-8008-9960\n",
    "date: \"3 March 2025\"\n",
    "format:\n",
    "  html:\n",
    "    toc: true\n",
    "    toc-location: right\n",
    "    toc-depth: 3\n",
    "    code-fold: false\n",
    "    code-summary: \"Code\"\n",
    "  pdf: default\n",
    "jupyter: python3\n",
    "---"
   ]
  },
  {
   "cell_type": "markdown",
   "metadata": {},
   "source": [
    "## Introduction"
   ]
  },
  {
   "cell_type": "markdown",
   "metadata": {},
   "source": [
    "## Design"
   ]
  },
  {
   "cell_type": "markdown",
   "metadata": {},
   "source": [
    "## Methods"
   ]
  },
  {
   "cell_type": "markdown",
   "metadata": {},
   "source": [
    "## EMA Data"
   ]
  },
  {
   "cell_type": "markdown",
   "metadata": {},
   "source": [
    "### Introduction\n",
    "This section outlines the eight EMA constructs and provides an item-level overview."
   ]
  },
  {
   "cell_type": "raw",
   "metadata": {
    "vscode": {
     "languageId": "raw"
    }
   },
   "source": [
    "---"
   ]
  },
  {
   "cell_type": "markdown",
   "metadata": {},
   "source": [
    "The EMA measurement includes the following constructs:\n",
    "\n",
    "1. [Affect](#affect)\n",
    "2. [Emotion regulation](#emotion-regulation)\n",
    "3. [Situational context](#situational-context)\n",
    "4. [Social context](#social-context)\n",
    "5. [Significant events](#significant-events)\n",
    "6. [Therapeutic agency](#therapeutic-agency)\n",
    "7. [Physical fitness](#physical-fitness)\n",
    "8. [ECG control](#ecg-control)"
   ]
  },
  {
   "cell_type": "markdown",
   "metadata": {},
   "source": [
    "#### Affect {#affect}\n",
    "\n",
    "* Description: At each beep, participants were asked about their current affective state\n",
    "  \n",
    "* Construct: PANAS-X subscales [Haney et al. (2023)](https://doi.org/10.1037/pas0001231)\n",
    "  \n",
    "* 17 Items\n"
   ]
  },
  {
   "cell_type": "markdown",
   "metadata": {},
   "source": [
    "<details>\n",
    "  <summary><strong>Show Items</strong></summary>\n",
    "  \n",
    "\n",
    "<div style=\"max-width: 800px; font-size: 14px;\">\n",
    "\n",
    "|  Variable  |  Item | Scale  | Scale Endpoints  | Measurement Time  |   \n",
    "|---------|-------|--------|------------------|-------------------|\n",
    "|         | How ... do you feel right now? |   | | |\n",
    "| `anxious`  |anxious   | 1-2-3-4-5-6-7   | not at all - very much  | all beeps  |\n",
    "| `nervous`  |nervous   | 1-2-3-4-5-6-7   | not at all - very much  | all beeps  |\n",
    "| `attentive`  |attentive   | 1-2-3-4-5-6-7   | not at all - very much  | all beeps  |\n",
    "| `relaxed`  |relaxed   | 1-2-3-4-5-6-7   | not at all - very much  | all beeps  |\n",
    "| `calm`  |calm   | 1-2-3-4-5-6-7   | not at all - very much  | all beeps  |\n",
    "| `irritable`  | irritable   | 1-2-3-4-5-6-7   | not at all - very much  | all beeps  |\n",
    "| `angry`  | angry   | 1-2-3-4-5-6-7   | not at all - very much  | all beeps  |\n",
    "| `fatigue`  | fatigue   | 1-2-3-4-5-6-7   | not at all - very much  | all beeps  |\n",
    "| `cheerful`  | cheerful   | 1-2-3-4-5-6-7   | not at all - very much  | all beeps  |\n",
    "| `happy`  | happy   | 1-2-3-4-5-6-7   | not at all - very much  | all beeps  |\n",
    "| `ashamed`  | ashamed   | 1-2-3-4-5-6-7   | not at all - very much  | all beeps  |\n",
    "| `dissatisfied_myself`  | dissatisfied with myself   | 1-2-3-4-5-6-7   | not at all - very much  | all beeps  |\n",
    "| `self_confident`  | self-confident   | 1-2-3-4-5-6-7   | not at all - very much  | all beeps  |\n",
    "| `shy`  | shy   | 1-2-3-4-5-6-7   | not at all - very much  | all beeps  |\n",
    "| `downcast`  | downcast   | 1-2-3-4-5-6-7   | not at all - very much  | all beeps  |\n",
    "| `sad`  | sad   | 1-2-3-4-5-6-7   | not at all - very much  | all beeps  |\n",
    "| `lonely`  | lonely   | 1-2-3-4-5-6-7   | not at all - very much  | all beeps  |\n",
    "\n",
    ":  {.striped .hover}\n",
    "\n",
    "  </table>\n",
    "   </div>\n",
    "</details>\n",
    "\n"
   ]
  },
  {
   "cell_type": "markdown",
   "metadata": {},
   "source": [
    "## Passive Sensor Data\n",
    "\n",
    "### Activity\n",
    "\n",
    "### Heartrate\n",
    "\n",
    "### Sleep\n",
    "\n",
    "### GPS"
   ]
  },
  {
   "cell_type": "markdown",
   "metadata": {},
   "source": [
    "## ECG Data"
   ]
  },
  {
   "cell_type": "markdown",
   "metadata": {},
   "source": []
  }
 ],
 "metadata": {
  "kernelspec": {
   "display_name": "TessaPyEnv",
   "language": "python",
   "name": "python3"
  },
  "language_info": {
   "codemirror_mode": {
    "name": "ipython",
    "version": 3
   },
   "file_extension": ".py",
   "mimetype": "text/x-python",
   "name": "python",
   "nbconvert_exporter": "python",
   "pygments_lexer": "ipython3",
   "version": "3.10.16"
  }
 },
 "nbformat": 4,
 "nbformat_minor": 2
}
