{
 "cells": [
  {
   "cell_type": "raw",
   "metadata": {
    "vscode": {
     "languageId": "raw"
    }
   },
   "source": [
    "---\n",
    "title: \"TIKI: Feature Database Documentation\"\n",
    "author: \n",
    "    - name: \"Leona Hammelrath\"\n",
    "      orcid: 0000-0002-9249-0881\n",
    "    - name: \"Tessa Meyer\"\n",
    "      orcid: 0009-0008-8008-9960\n",
    "date: \"3 March 2025\"\n",
    "format:\n",
    "  html:\n",
    "    toc: true\n",
    "    toc-location: right\n",
    "    toc-depth: 3\n",
    "    code-fold: false\n",
    "    code-summary: \"Code\"\n",
    "  pdf: default\n",
    "jupyter: python3\n",
    "---"
   ]
  },
  {
   "cell_type": "markdown",
   "metadata": {},
   "source": [
    "## Introduction"
   ]
  },
  {
   "cell_type": "markdown",
   "metadata": {},
   "source": [
    "## Design"
   ]
  },
  {
   "cell_type": "markdown",
   "metadata": {},
   "source": [
    "## Methods"
   ]
  },
  {
   "cell_type": "markdown",
   "metadata": {},
   "source": [
    "## EMA Data"
   ]
  },
  {
   "cell_type": "markdown",
   "metadata": {},
   "source": [
    "## Passive Sensor Data\n",
    "\n",
    "### Activity\n",
    "\n",
    "### Heartrate\n",
    "\n",
    "### Sleep\n",
    "\n",
    "### GPS"
   ]
  },
  {
   "cell_type": "markdown",
   "metadata": {},
   "source": [
    "## ECG Data"
   ]
  },
  {
   "cell_type": "markdown",
   "metadata": {},
   "source": []
  }
 ],
 "metadata": {
  "kernelspec": {
   "display_name": "TessaPyEnv",
   "language": "python",
   "name": "python3"
  },
  "language_info": {
   "codemirror_mode": {
    "name": "ipython",
    "version": 3
   },
   "file_extension": ".py",
   "mimetype": "text/x-python",
   "name": "python",
   "nbconvert_exporter": "python",
   "pygments_lexer": "ipython3",
   "version": "3.10.16"
  }
 },
 "nbformat": 4,
 "nbformat_minor": 2
}
