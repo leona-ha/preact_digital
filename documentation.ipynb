{
 "cells": [
  {
   "cell_type": "raw",
   "metadata": {
    "vscode": {
     "languageId": "raw"
    }
   },
   "source": [
    "---\n",
    "title: \"Preact Digital: Feature Database Documentation\"\n",
    "author: \n",
    "    - name: \"Leona Hammelrath\"\n",
    "      orcid: 0000-0002-9249-0881\n",
    "    - name: \"Tessa Meyer\"\n",
    "      orcid: 0009-0008-8008-9960\n",
    "date: \"3 March 2025\"\n",
    "format:\n",
    "  html:\n",
    "    toc: true\n",
    "    toc-location: right\n",
    "    toc-depth: 3\n",
    "    code-fold: false\n",
    "    code-summary: \"Code\"\n",
    "  pdf: default\n",
    "jupyter: python3\n",
    "---"
   ]
  },
  {
   "cell_type": "markdown",
   "metadata": {},
   "source": [
    "## Introduction"
   ]
  },
  {
   "cell_type": "markdown",
   "metadata": {},
   "source": [
    "## Design"
   ]
  },
  {
   "cell_type": "markdown",
   "metadata": {},
   "source": [
    "## Methods"
   ]
  },
  {
   "cell_type": "markdown",
   "metadata": {},
   "source": [
    "## EMA Data"
   ]
  },
  {
   "cell_type": "markdown",
   "metadata": {},
   "source": [
    "### Introduction\n",
    "This section outlines the eight EMA constructs and provides an item-level overview."
   ]
  },
  {
   "cell_type": "markdown",
   "metadata": {},
   "source": [
    "### Methods\n",
    "\n",
    "1. **Level 1: Measurements (Observations)**\n",
    "   * Each person records data 8x/day over 14 days\n",
    "   * This results in 112 measurements per wave (8x14)\n",
    "     \n",
    "2. **Level 2: Days**\n",
    "   * Measurements (Level 1) are nested within days (Level 2)\n",
    "   * Each wave has 14 days\n",
    "     \n",
    "3. **Level 3: Waves (Measurement points)**\n",
    "   * Each person goes thorugh three waves (long version)\n",
    "   * Days (Level 2) are nested within waves (Level 3)\n",
    "  \n",
    "4. **Level 4: Individuals (Participants)**\n",
    "   * Waves (Level 3) are nested within participants (Level 4)"
   ]
  },
  {
   "cell_type": "raw",
   "metadata": {
    "vscode": {
     "languageId": "raw"
    }
   },
   "source": [
    "---"
   ]
  },
  {
   "cell_type": "markdown",
   "metadata": {},
   "source": [
    "The EMA measurement includes the following constructs:\n",
    "\n",
    "1. [Affect](#affect)\n",
    "2. [Emotion regulation](#emotion-regulation)\n",
    "3. [Situational context](#situational-context)\n",
    "4. [Social context](#social-context)\n",
    "5. [Significant events](#significant-events)\n",
    "6. [Therapeutic agency](#therapeutic-agency)\n",
    "7. [Physical fitness](#physical-fitness)\n",
    "8. [ECG control](#ecg-control)"
   ]
  },
  {
   "cell_type": "markdown",
   "metadata": {},
   "source": [
    "#### Affect {#affect}\n",
    "\n",
    "* Description: At each beep, participants were asked about their current affective state\n",
    "  \n",
    "* Construct: PANAS-X subscales [Haney et al. (2023)](https://doi.org/10.1037/pas0001231)\n",
    "  \n",
    "* 17 Items\n"
   ]
  },
  {
   "cell_type": "markdown",
   "metadata": {},
   "source": [
    "<details>\n",
    "  <summary><strong>Show Items</strong></summary>\n",
    "  \n",
    "\n",
    "<div style=\"max-width: 800px; font-size: 14px;\">\n",
    "\n",
    "|  Variable  |  Item | Scale  | Scale Endpoints  | Measurement Time  |   \n",
    "|---------|-------|--------|------------------|-------------------|\n",
    "|         | How ... do you feel right now? |   | | |\n",
    "| `anxious`  |anxious   | 1-2-3-4-5-6-7   | not at all - very much  | all beeps  |\n",
    "| `nervous`  |nervous   | 1-2-3-4-5-6-7   | not at all - very much  | all beeps  |\n",
    "| `attentive`  |attentive   | 1-2-3-4-5-6-7   | not at all - very much  | all beeps  |\n",
    "| `relaxed`  |relaxed   | 1-2-3-4-5-6-7   | not at all - very much  | all beeps  |\n",
    "| `calm`  |calm   | 1-2-3-4-5-6-7   | not at all - very much  | all beeps  |\n",
    "| `irritable`  | irritable   | 1-2-3-4-5-6-7   | not at all - very much  | all beeps  |\n",
    "| `angry`  | angry   | 1-2-3-4-5-6-7   | not at all - very much  | all beeps  |\n",
    "| `fatigue`  | fatigue   | 1-2-3-4-5-6-7   | not at all - very much  | all beeps  |\n",
    "| `cheerful`  | cheerful   | 1-2-3-4-5-6-7   | not at all - very much  | all beeps  |\n",
    "| `happy`  | happy   | 1-2-3-4-5-6-7   | not at all - very much  | all beeps  |\n",
    "| `ashamed`  | ashamed   | 1-2-3-4-5-6-7   | not at all - very much  | all beeps  |\n",
    "| `dissatisfied_myself`  | dissatisfied with myself   | 1-2-3-4-5-6-7   | not at all - very much  | all beeps  |\n",
    "| `self_confident`  | self-confident   | 1-2-3-4-5-6-7   | not at all - very much  | all beeps  |\n",
    "| `shy`  | shy   | 1-2-3-4-5-6-7   | not at all - very much  | all beeps  |\n",
    "| `downcast`  | downcast   | 1-2-3-4-5-6-7   | not at all - very much  | all beeps  |\n",
    "| `sad`  | sad   | 1-2-3-4-5-6-7   | not at all - very much  | all beeps  |\n",
    "| `lonely`  | lonely   | 1-2-3-4-5-6-7   | not at all - very much  | all beeps  |\n",
    "\n",
    ":  {.striped .hover}\n",
    "\n",
    "  </table>\n",
    "   </div>\n",
    "</details>\n",
    "\n"
   ]
  },
  {
   "cell_type": "markdown",
   "metadata": {},
   "source": [
    "#### Emotion regulation {#emotion-regulation}\n",
    "\n",
    "* Description: At each beep, participants were asked to rate the intensity and controllability of their most negative thought since the last beep. Then, we assessed the use of different ER strategies since the last beep\n",
    "\n",
    "* Construct: RESS-EMA scale [Medland et al. (2020)](https://doi.org/10.1027/1015-5759/a000595)\n",
    "  \n",
    "* 6 Items (covering reappraisal, rumination, suppression, distraction, relaxation, acceptance)"
   ]
  },
  {
   "cell_type": "markdown",
   "metadata": {},
   "source": [
    "<details>\n",
    "  <summary><strong>Show Items</strong></summary>\n",
    "\n",
    "<div style=\"max-width: 800px; font-size: 14px;\">\n",
    "\n",
    "|  Emotion Regulation |  Item | Scale  | Scale Endpoints  | Measurement Time  |   \n",
    "|---------|-------|--------|------------------|-------------------|\n",
    "|         | Think about the strongest negative feeling since the last beep [since waking up]. | |  |  |\n",
    "| `er_intensity`  |How intense was this feeling?   | 1-2-3-4-5-6-7<br> (1 = neutral)   | not at all - very much  | all beeps (except the first of the day)  |\n",
    "| `er_intensity_morning`  |How intense was this feeling?   | 1-2-3-4-5-6-7<br> (1 = neutral)   | not at all - very much  | first beep of the day   |\n",
    "| `er_control`  |How controllable was the situation that triggered this feeling?   | 1-2-3-4-5-6-7<br> (4 = neutral)   | not at all - very much  | all beeps (except the first of the day)    |\n",
    "| `er_control_morning`  |How controllable was the situation that triggered this feeling?   | 1-2-3-4-5-6-7<br> (4 = neutral)   | not at all - very much  | first beep of the day |\n",
    "|         |  As a reaction to the negative feeling ... | |  |  |\n",
    "| `er_relaxation` |I tried to breathe deeply   | 1-2-3-4-5-6-7  | not at all - very much  | all beeps  |\n",
    "| `er_rumination` |I kept thinking about what was bothering me   | 1-2-3-4-5-6-7  | not at all - very much  | all beeps  |\n",
    "| `er_reappraisal` |I considered the situation from different perspectives   | 1-2-3-4-5-6-7  | not at all - very much  | all beeps  |\n",
    "| `er_distraction` |I tried to distract myself   | 1-2-3-4-5-6-7  | not at all - very much  | all beeps  |\n",
    "| `er_suppression` |I tried to hide my feelings   | 1-2-3-4-5-6-7  | not at all - very much  | all beeps  |\n",
    "| `er_acceptance` |I tried to accept the situation   | 1-2-3-4-5-6-7  | not at all - very much  | all beeps  |\n",
    "\n",
    ":  {.striped .hover}\n",
    "\n",
    "  </table>\n",
    "   </div>\n",
    "</details>"
   ]
  },
  {
   "cell_type": "markdown",
   "metadata": {},
   "source": [
    "#### Situational Context {#situational-context}\n",
    "\n",
    "* Description: At each beep, participants were asked to specify activities they had pursued in the preceding 2 hours from a given set of 9 common activities. Participants were able to select multiple options simultaneously. Subsequently, they were asked to evaluate how much they enjoyed the respective activities\n",
    "\n",
    "* Construct: self-constructed, based on DIAMONDS scale [Rauthmann & Sherman (2016)](https://doi.org/10.1027/1015-5759/a000245) and WARN-D study protocol [Fried et al. (2022)](https://osf.io/preprints/psyarxiv/9qcvs_v1)\n",
    "  \n",
    "* 2 Items "
   ]
  },
  {
   "cell_type": "markdown",
   "metadata": {},
   "source": [
    "<details>\n",
    "  <summary><strong>Show Items</strong></summary>\n",
    "  \n",
    "\n",
    "<div style=\"max-width: 800px; font-size: 14px;\">\n",
    "\n",
    "|  Variable  |  Item     | Measurement Time  |   \n",
    "|-------|----------------|----------|\n",
    "|         | How did you spent the time since the last beep? <br> (Multiple answers possible) |    |\n",
    "| `situation_1`  |  [   ] Work or study <br>  [   ] Housework or errands <br> [  ] Caring for children/relatives <br> [   ] Eating/drinking/personal hygiene <br> [   ] On the move (e.g., in the subway) <br> [   ] Smartphone/social media <br> [   ] Leisure activity, rather passive (e.g., watching a movie, reading) <br> [   ] Leisure activity, rather active (e.g., sports, outings) <br> [   ] Something else       | all beeps  |\n",
    "\n",
    "\n",
    "\n",
    ":  {.striped .hover}\n",
    "\n",
    "  </table>\n",
    "   </div>\n",
    "</details>"
   ]
  },
  {
   "cell_type": "markdown",
   "metadata": {},
   "source": [
    "#### Social context {#social-context}\n",
    "\n",
    "* Description: At each beep, participants were asked to specify activities they had pursued in the preceding 2 hours from a given set of 9 common activities. Participants were able to select multiple options simultaneously. Subsequently, they were asked to evaluate how much they enjoyed the respective activities\n",
    "\n",
    "* Construct: self-constructed, based on DIAMONDS scale [Rauthmann & Sherman (2016)](https://doi.org/10.1027/1015-5759/a000245) and WARN-D study protocol [Fried et al. (2022)](https://osf.io/preprints/psyarxiv/9qcvs_v1)\n",
    "  \n",
    "* 3 Items "
   ]
  },
  {
   "cell_type": "markdown",
   "metadata": {},
   "source": [
    "#### Significant Events {#significant-events}\n",
    "\n",
    "* Description: At each beep, participants were asked to specify activities they had pursued in the preceding 2 hours from a given set of 9 common activities. Participants were able to select multiple options simultaneously. Subsequently, they were asked to evaluate how much they enjoyed the respective activities\n",
    "\n",
    "* Construct: self-constructed, based on DIAMONDS scale [Rauthmann & Sherman (2016)](https://doi.org/10.1027/1015-5759/a000245) and WARN-D study protocol [Fried et al. (2022)](https://osf.io/preprints/psyarxiv/9qcvs_v1)\n",
    "  \n",
    "* 1 Items "
   ]
  },
  {
   "cell_type": "markdown",
   "metadata": {},
   "source": [
    "## Passive Sensor Data\n",
    "\n",
    "### Activity\n",
    "\n",
    "### Heartrate\n",
    "\n",
    "### Sleep\n",
    "\n",
    "### GPS"
   ]
  },
  {
   "cell_type": "markdown",
   "metadata": {},
   "source": [
    "## ECG Data"
   ]
  },
  {
   "cell_type": "markdown",
   "metadata": {},
   "source": []
  }
 ],
 "metadata": {
  "kernelspec": {
   "display_name": "TessaPyEnv",
   "language": "python",
   "name": "python3"
  },
  "language_info": {
   "codemirror_mode": {
    "name": "ipython",
    "version": 3
   },
   "file_extension": ".py",
   "mimetype": "text/x-python",
   "name": "python",
   "nbconvert_exporter": "python",
   "pygments_lexer": "ipython3",
   "version": "3.10.16"
  }
 },
 "nbformat": 4,
 "nbformat_minor": 2
}
