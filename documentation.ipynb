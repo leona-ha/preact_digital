{
 "cells": [
  {
   "cell_type": "raw",
   "metadata": {
    "vscode": {
     "languageId": "raw"
    }
   },
   "source": [
    "---\n",
    "title: \"Preact Digital: Feature Database Documentation\"\n",
    "author: \n",
    "    - name: \"Leona Hammelrath\"\n",
    "      orcid: 0000-0002-9249-0881\n",
    "    - name: \"Tessa Meyer\"\n",
    "      orcid: 0009-0008-8008-9960\n",
    "date: \"3 March 2025\"\n",
    "format:\n",
    "  html:\n",
    "    toc: true\n",
    "    toc-location: right\n",
    "    toc-depth: 3\n",
    "    code-fold: false\n",
    "    code-summary: \"Code\"\n",
    "  pdf: default\n",
    "jupyter: python3\n",
    "---"
   ]
  },
  {
   "cell_type": "markdown",
   "metadata": {},
   "source": [
    "## Introduction\n",
    "\n",
    "Study protocol link"
   ]
  },
  {
   "cell_type": "markdown",
   "metadata": {},
   "source": [
    "## Design"
   ]
  },
  {
   "cell_type": "markdown",
   "metadata": {},
   "source": [
    "::: {.callout-tip title=\"Glossary\" collapse=\"false\"} \n",
    "beep = xxxx\n",
    "\n",
    "measurement burst = xxxx\n",
    "\n",
    ":::\n"
   ]
  },
  {
   "cell_type": "markdown",
   "metadata": {},
   "source": [
    "### Data Structure \n",
    "\n",
    "**Folder Structure**  \n",
    "[insert folder/file tree]\n"
   ]
  },
  {
   "cell_type": "markdown",
   "metadata": {},
   "source": [
    "## EMA Data"
   ]
  },
  {
   "cell_type": "markdown",
   "metadata": {},
   "source": [
    "### Introduction\n",
    "This section outlines the eight [EMA constructs](#emaconstructs) and provides an item-level overview."
   ]
  },
  {
   "cell_type": "markdown",
   "metadata": {},
   "source": [
    "**Files:**\n",
    "\n",
    "* `ema_content.pkl`: binary file format storing the ema relevant for analyses\n",
    "* `ema_meta.pkl`: xxx"
   ]
  },
  {
   "cell_type": "markdown",
   "metadata": {},
   "source": [
    "**Load the .pkl file:**"
   ]
  },
  {
   "cell_type": "code",
   "execution_count": null,
   "metadata": {},
   "outputs": [],
   "source": [
    "import pickle\n",
    "\n",
    "# load the .pkl file\n",
    "with open('data.pkl', 'rb') as f:\n",
    "    loaded_data = pickle.load(f)\n",
    "\n",
    "print(loaded_data)"
   ]
  },
  {
   "cell_type": "markdown",
   "metadata": {},
   "source": [
    "**Details** `ema_content.pkl` **file:**"
   ]
  },
  {
   "cell_type": "markdown",
   "metadata": {},
   "source": [
    "<div style=\"max-width: 800px; font-size: 14px;\">\n",
    "\n",
    "| No. | Column name | Description | Data type | Scale level | Variable Level |\n",
    "|-----|-------------|-------------|-----------|-----------|---------|\n",
    "| 1   | `id` | Unique identifier wearable and ema data within subproject 6 (SP6) | `str` |  |  |\n",
    "| 2   | `for_id` | Unique identifier across all PREACT subprojects and redcap | `str` |  | |\n",
    "| 3   | `timestamp_item_completion` | Timestamp at which a single item was completed | `datetime64` | interval | |\n",
    "| 4   | `timestamp_beep_completion` |  | `datetime64` | interval | |\n",
    "| 5   | `timestamp_beep_expiration` |  | `datetime64` | interval | |\n",
    "| 6   | `measurment_burst` | Measurement burst describes the measurement point in the longitudinal study (Baseline (T0), after 20 therapy sessions (T20), or after therapy end respectively 365 days after therapy start (TPost) | `int` | ordinal | 0 = T0 <br> 1 = T20 <br> 2 = TPost|\n",
    "| 7   | `schedule_chronotype` | Depending on their individual sleep-wake rhythm participants can choose to receive beeps between 07:30 and 21:30 (lark) or 09:30 and 22:30 (owl) | `int` | nominal | 24 = T0 lark <br> 25 = T0 owl <br> 33 = T20 lark <br> 34 = T20 owl <br> 38 = TPost lark <br> 39 = TPost owl |\n",
    "| 8   | `response` | Chosen response by participant | `int` | ordinal, nominal, binary | |\n",
    "| 9   | `item` | Question/item title | `str` |  |  |\n",
    "| 10   | `beep_per_person_id` | Unique beep identifier. Date and number of beep per customer | `str` |  |  |\n",
    "| 11  | `date` | Date on which the question was generated | `datetime64` |  |  |\n",
    "| 12  | `study_version` | Numerical coding of study version: the long version covers the whole | `str` |  | long <br> short |\n",
    "| 13  | `ema_burst_start` | Absolute start EMA measurement burst (i.e. intended start according to study protocol) | `datetime64` |   |\n",
    "| 14  | `ema_burst_end` | Absolute end EMA measurement burst (i.e. intended end according to study protocol) | `datetime64` |   |\n",
    "| 15  | `season` | Describes the four seasons | `str` | nominal  | 1 = Spring <br> 2 = Summer <br> 3 = Fall <br> 4 = Winter |\n",
    "| 16  | `time_of_day` | Time of day stratified into five categories (Early Morning = xx) | `str` | nominal  | 1 = Early Morning <br> 2 = Morning <br> 3 = Fall <br> 4 = Winter |\n",
    "\n",
    "\n",
    "   </div>\n"
   ]
  },
  {
   "cell_type": "markdown",
   "metadata": {},
   "source": [
    "### Methods: Hierarchical Data Structure\n",
    "\n",
    "1. **Level 1: Measurements (Observations)**\n",
    "   * Each person records data 8x/day over 14 days\n",
    "   * This results in 112 measurements per wave (8x14)\n",
    "     \n",
    "2. **Level 2: Days**\n",
    "   * Measurements (Level 1) are nested within days (Level 2)\n",
    "   * Each wave has 14 days\n",
    "     \n",
    "3. **Level 3: Waves (Measurement points)**\n",
    "   * Each person goes thorugh three waves (long version)\n",
    "   * Days (Level 2) are nested within waves (Level 3)\n",
    "  \n",
    "4. **Level 4: Individuals (Participants)**\n",
    "   * Waves (Level 3) are nested within participants (Level 4)"
   ]
  },
  {
   "cell_type": "raw",
   "metadata": {
    "vscode": {
     "languageId": "raw"
    }
   },
   "source": [
    "---"
   ]
  },
  {
   "cell_type": "markdown",
   "metadata": {},
   "source": [
    "### EMA constructs and item-level overview {#emaconstructs}"
   ]
  },
  {
   "cell_type": "markdown",
   "metadata": {},
   "source": [
    "The EMA measurement includes the following constructs:\n",
    "\n",
    "1. [Affect](#affect)\n",
    "2. [Emotion regulation](#emotion-regulation)\n",
    "3. [Situational context](#situational-context)\n",
    "4. [Significant events](#significant-events)\n",
    "5. [Social context](#social-context)\n",
    "6. [Therapeutic agency](#therapeutic-agency)\n",
    "7. [Physical fitness](#physical-fitness)\n",
    "8. [ECG control](#ecg-control)"
   ]
  },
  {
   "cell_type": "markdown",
   "metadata": {},
   "source": [
    "#### Affect {#affect}\n",
    "\n",
    "* Description: At each beep, participants were asked about their current affective state\n",
    "  \n",
    "* Construct: PANAS-X subscales [Haney et al. (2023)](https://doi.org/10.1037/pas0001231)\n",
    "  \n",
    "* 17 Items\n"
   ]
  },
  {
   "cell_type": "markdown",
   "metadata": {},
   "source": [
    "<details>\n",
    "  <summary><strong>Show Items</strong></summary>\n",
    "  \n",
    "\n",
    "<div style=\"max-width: 800px; font-size: 14px;\">\n",
    "\n",
    "|  Variable  |  Item | Scale  | Scale Endpoints  | Measurement Time  |   \n",
    "|---------|-------|--------|------------------|-------------------|\n",
    "|         | How ... do you feel right now? |   | | |\n",
    "| `anxious`  |anxious   | 1-2-3-4-5-6-7   | not at all - very much  | all beeps  |\n",
    "| `nervous`  |nervous   | 1-2-3-4-5-6-7   | not at all - very much  | all beeps  |\n",
    "| `attentive`  |attentive   | 1-2-3-4-5-6-7   | not at all - very much  | all beeps  |\n",
    "| `relaxed`  |relaxed   | 1-2-3-4-5-6-7   | not at all - very much  | all beeps  |\n",
    "| `calm`  |calm   | 1-2-3-4-5-6-7   | not at all - very much  | all beeps  |\n",
    "| `irritable`  | irritable   | 1-2-3-4-5-6-7   | not at all - very much  | all beeps  |\n",
    "| `angry`  | angry   | 1-2-3-4-5-6-7   | not at all - very much  | all beeps  |\n",
    "| `fatigue`  | fatigue   | 1-2-3-4-5-6-7   | not at all - very much  | all beeps  |\n",
    "| `cheerful`  | cheerful   | 1-2-3-4-5-6-7   | not at all - very much  | all beeps  |\n",
    "| `happy`  | happy   | 1-2-3-4-5-6-7   | not at all - very much  | all beeps  |\n",
    "| `ashamed`  | ashamed   | 1-2-3-4-5-6-7   | not at all - very much  | all beeps  |\n",
    "| `dissatisfied_myself`  | dissatisfied with myself   | 1-2-3-4-5-6-7   | not at all - very much  | all beeps  |\n",
    "| `self_confident`  | self-confident   | 1-2-3-4-5-6-7   | not at all - very much  | all beeps  |\n",
    "| `shy`  | shy   | 1-2-3-4-5-6-7   | not at all - very much  | all beeps  |\n",
    "| `downcast`  | downcast   | 1-2-3-4-5-6-7   | not at all - very much  | all beeps  |\n",
    "| `sad`  | sad   | 1-2-3-4-5-6-7   | not at all - very much  | all beeps  |\n",
    "| `lonely`  | lonely   | 1-2-3-4-5-6-7   | not at all - very much  | all beeps  |\n",
    "\n",
    ":  {.striped .hover}\n",
    "\n",
    "  </table>\n",
    "   </div>\n",
    "</details>\n",
    "\n"
   ]
  },
  {
   "cell_type": "markdown",
   "metadata": {},
   "source": [
    "#### Emotion regulation {#emotion-regulation}\n",
    "\n",
    "* Description: At each beep, participants were asked to rate the intensity and controllability of their most negative thought since the last beep. Then, we assessed the use of different ER strategies since the last beep\n",
    "\n",
    "* Construct: RESS-EMA scale [Medland et al. (2020)](https://doi.org/10.1027/1015-5759/a000595)\n",
    "  \n",
    "* 6 Items (covering reappraisal, rumination, suppression, distraction, relaxation, acceptance)"
   ]
  },
  {
   "cell_type": "markdown",
   "metadata": {},
   "source": [
    "<details>\n",
    "  <summary><strong>Show Items</strong></summary>\n",
    "\n",
    "<div style=\"max-width: 800px; font-size: 14px;\">\n",
    "\n",
    "|  Variable |  Item | Scale  | Scale Endpoints  | Measurement Time  |   \n",
    "|---------|-------|--------|------------------|-------------------|\n",
    "|         | Think about the strongest negative feeling since the last beep [since waking up]. | |  |  |\n",
    "| `er_intensity`  |How intense was this feeling?   | 1-2-3-4-5-6-7<br> (1 = neutral)   | not at all - very much  | all beeps (except the first of the day)  |\n",
    "| `er_intensity_morning`  |How intense was this feeling?   | 1-2-3-4-5-6-7<br> (1 = neutral)   | not at all - very much  | first beep of the day   |\n",
    "| `er_control`  |How controllable was the situation that triggered this feeling?   | 1-2-3-4-5-6-7<br> (4 = neutral)   | not at all - very much  | all beeps (except the first of the day)    |\n",
    "| `er_control_morning`  |How controllable was the situation that triggered this feeling?   | 1-2-3-4-5-6-7<br> (4 = neutral)   | not at all - very much  | first beep of the day |\n",
    "|         |  As a reaction to the negative feeling ... | |  |  |\n",
    "| `er_relaxation` |I tried to breathe deeply   | 1-2-3-4-5-6-7  | not at all - very much  | all beeps  |\n",
    "| `er_rumination` |I kept thinking about what was bothering me   | 1-2-3-4-5-6-7  | not at all - very much  | all beeps  |\n",
    "| `er_reappraisal` |I considered the situation from different perspectives   | 1-2-3-4-5-6-7  | not at all - very much  | all beeps  |\n",
    "| `er_distraction` |I tried to distract myself   | 1-2-3-4-5-6-7  | not at all - very much  | all beeps  |\n",
    "| `er_suppression` |I tried to hide my feelings   | 1-2-3-4-5-6-7  | not at all - very much  | all beeps  |\n",
    "| `er_acceptance` |I tried to accept the situation   | 1-2-3-4-5-6-7  | not at all - very much  | all beeps  |\n",
    "\n",
    ":  {.striped .hover}\n",
    "\n",
    "  </table>\n",
    "   </div>\n",
    "</details>"
   ]
  },
  {
   "cell_type": "markdown",
   "metadata": {},
   "source": [
    "#### Situational Context {#situational-context}\n",
    "\n",
    "* Description: At each beep, participants were asked to specify activities they had pursued in the preceding 2 hours from a given set of 9 common activities. Participants were able to select multiple options simultaneously. Subsequently, they were asked to evaluate how much they enjoyed the respective activities\n",
    "\n",
    "* Construct: Self-constructed, based on the DIAMONDS scale [Rauthmann & Sherman (2016)](https://doi.org/10.1027/1015-5759/a000245) and the WARN-D study protocol [Fried et al. (2022)](https://osf.io/preprints/psyarxiv/9qcvs_v1), a similar longitudinal digital phenotyping study. We aimed to find a balance between sparsity of items and high degree of situational coverage.  \n",
    "  \n",
    "* 2 Items "
   ]
  },
  {
   "cell_type": "markdown",
   "metadata": {},
   "source": [
    "<details>\n",
    "  <summary><strong>Show Items</strong></summary>\n",
    "  \n",
    "\n",
    "<div style=\"max-width: 800px; font-size: 14px;\">\n",
    "\n",
    "\n",
    "|  Variable |  Item | Scale  | Scale Endpoints  | Measurement Time  |   \n",
    "|---------|-------|---------|-----------------|-------------------|\n",
    "|         | How did you spent the time since the last beep [since waking up]? <br> (Multiple answers possible) |    | | |\n",
    "| `situation_1`  |  [   ] Work or study <br>  [   ] Housework or errands <br> [  ] Caring for children/relatives <br> [   ] Eating/drinking/personal hygiene <br> [   ] On the move (e.g., in the subway) <br> [   ] Smartphone/social media <br> [   ] Leisure activity, rather passive (e.g., watching a movie, reading) <br> [   ] Leisure activity, rather active (e.g., sports, outings) <br> [   ] Something else  | |   | all beeps (except the first of the day)  |\n",
    "| `situation_1_morning`  |  cf. above | | | first beep of the day  |\n",
    "| `situation_2`  |  How much did you enjoy this activity? | -2, -1, 0, 1, 2 | not at all - very much | all beeps (except the first of the day)  |\n",
    "| `situation_2_morning`  |  cf. above  | -2, -1, 0, 1, 2 | not at all - very much | first beep of the day  |\n",
    "\n",
    "\n",
    ":  {.striped .hover}\n",
    "\n",
    "  </table>\n",
    "   </div>\n",
    "</details>"
   ]
  },
  {
   "cell_type": "markdown",
   "metadata": {},
   "source": [
    "#### Significant Events {#significant-events}\n",
    "\n",
    "* Description: Participants were asked to think about the most important event since the last beep and how pleasant they perceived it\n",
    "\n",
    "* Construct: Self-constructed\n",
    "  \n",
    "* 1 Items "
   ]
  },
  {
   "cell_type": "markdown",
   "metadata": {},
   "source": [
    "<details>\n",
    "  <summary><strong>Show Items</strong></summary>\n",
    "\n",
    "<div style=\"max-width: 800px; font-size: 14px;\">\n",
    "\n",
    "|  Variable |  Item | Scale  | Scale Endpoints  | Measurement Time  |   \n",
    "|---------|-------|---------|-----------------|-------------------|\n",
    "| `event_general`  | Think of the most significant moment (situation/experience) since the last survey. How did you perceive it? | -2, -1, 0, 1, 2  | very unpleasant - very pleasant | all beeps (except the first of the day) |\n",
    "| `event_general_morning`  | Think of the most significant moment (situation/experience) since waking up. How did you perceive it? | -2, -1, 0, 1, 2  | very unpleasant - very pleasant | first beep of the day |\n",
    "\n",
    ":  {.striped .hover}\n",
    "\n",
    "  </table>\n",
    "   </div>\n",
    "</details>"
   ]
  },
  {
   "cell_type": "markdown",
   "metadata": {},
   "source": [
    "#### Social context {#social-context}\n",
    "\n",
    "* Description: Participants were asked if they had social contacts since the last beep, how (online/ in person/ phone) and how agreeable the contact was. \n",
    "\n",
    "* Self-constructed\n",
    "  \n",
    "* 3 Items "
   ]
  },
  {
   "cell_type": "markdown",
   "metadata": {},
   "source": [
    "<details>\n",
    "  <summary><strong>Show Items</strong></summary>\n",
    "\n",
    "<div style=\"max-width: 800px; font-size: 14px;\">\n",
    "\n",
    "|  Variable |  Item | Scale  | Scale Endpoints  | Measurement Time  |   \n",
    "|---------|-------|---------|-----------------|-------------------|\n",
    "| `event_social_1`  | Have you had social contacts since the last survey? | binary: <br> yes/no  | | all beeps (except the first of the day) |\n",
    "| `event_social_1_morning`  | Have you had social contacts since waking up? | binary: <br> yes/no  | | first beep of the day |\n",
    "| `event_social_2`  | How did the social contact take place? | multiple choice: <br> [   ] online <br> [   ] by phone <br> [   ] in person | | all beeps |\n",
    "| `event_social_3`  | How did you experience the social contacts? | -2, -1, 0, 1, 2 | very unpleasant - very pleasant | all beeps |\n",
    "\n",
    ":  {.striped .hover}\n",
    "\n",
    "  </table>\n",
    "   </div>\n",
    "</details>"
   ]
  },
  {
   "cell_type": "markdown",
   "metadata": {},
   "source": [
    "#### Therapeutic Agency (TA) {#therapeutic-agency}\n",
    "\n",
    "* Description: Participants were asked about Therapeutic Agency (TA) in everyday life\n",
    "\n",
    "* Construct: Self-constructed based on the Therapeutic Agency Inventory (TAI) [Huber et al. (2019)](https://pubmed.ncbi.nlm.nih.gov/29557306/). The original TAI contains 3 subscales, covering in-session activities, passivity towards the therapist and out-of-session activities. As we were interested in assessing therapeutic agency in everyday life, our TAI-EMA items are based on the “out-of-session activities” subscales and cover cognitive and behavioral aspects of TA\n",
    "\n",
    "* 4 Items "
   ]
  },
  {
   "cell_type": "markdown",
   "metadata": {},
   "source": [
    "<details>\n",
    "  <summary><strong>Show Items</strong></summary>\n",
    "\n",
    "<div style=\"max-width: 800px; font-size: 14px;\">\n",
    "\n",
    "|  Variable |  Item | Scale  | Scale Endpoints  | Measurement Time  |   \n",
    "|---------|-------|---------|-----------------|-------------------|\n",
    "|         | Prompted by my therapy today, I have ... / Today I have ... |   | | |\n",
    "| `ta_behavioral_1`  |  ... implemented ideas or tasks from therapy | 1-2-3-4-5-6-7  | not at all - very much    | 1x/day, 8th beep |\n",
    "| `ta_behavioral_2`  |  ... tried to think differently about things | 1-2-3-4-5-6-7  | not at all - very much | 1x/day, 8th beep  |\n",
    "| `ta_cognitive_1`  | ... thought about something that was discussed in therapy | 1-2-3-4-5-6-7 | not at all - very much   | 1x/day, 8th beep |\n",
    "| `ta_cognitive_2`  | ... done something to improve my situation | 1-2-3-4-5-6-7 | not at all - very much | 1x/day, 8th beep |\n",
    "\n",
    ":  {.striped .hover}\n",
    "\n",
    "  </table>\n",
    "   </div>\n",
    "</details>"
   ]
  },
  {
   "cell_type": "markdown",
   "metadata": {},
   "source": [
    "#### Physical Fitness {#physical-fitness}\n",
    "\n",
    "* Description: Participants were asked how physically healthy they had felt today on the last beep of the day\n",
    "\n",
    "* Construct: Self-constructed \n",
    "\n",
    "* 1 Item"
   ]
  },
  {
   "cell_type": "markdown",
   "metadata": {},
   "source": [
    "<details>\n",
    "  <summary><strong>Show Items</strong></summary>\n",
    "\n",
    "<div style=\"max-width: 800px; font-size: 14px;\">\n",
    "\n",
    "|  Variable |  Item | Scale  | Scale Endpoints  | Measurement Time  |   \n",
    "|---------|-------|---------|-----------------|-------------------|\n",
    "| `physical_health`  | How physically healthy did you feel today? | -2, -1, 0, 1, 2  | worse than usual / normal / better than usual   | 1x/day, 8th beep |\n",
    "\n",
    "\n",
    ":  {.striped .hover}\n",
    "\n",
    "  </table>\n",
    "   </div>\n",
    "</details>"
   ]
  },
  {
   "cell_type": "raw",
   "metadata": {
    "vscode": {
     "languageId": "raw"
    }
   },
   "source": [
    "#### ECG Control {#ecg-control}\n",
    "\n",
    "* Description: During measurement bursts, patients were asked twice per day to conduct a resting-state ECG on their Scanwatch. To control for potential confounders influencing the signal, we asked if they had consumed nicotine, caffeine or alcohol or had a heavy meal in the last 30 minutes\n",
    "\n",
    "* Construct: Self-constructed \n",
    "\n",
    "* 1 Item"
   ]
  },
  {
   "cell_type": "markdown",
   "metadata": {},
   "source": [
    "<details>\n",
    "  <summary><strong>Show Items</strong></summary>\n",
    "\n",
    "<div style=\"max-width: 800px; font-size: 14px;\">\n",
    "\n",
    "|  Variable |  Item | Scale  | Scale Endpoints  | Measurement Time  |   \n",
    "|---------|-------|---------|-----------------|-------------------|\n",
    "| `ecg_control`  |  Within the last 30 minutes, did you ... <br> - drink coffee or alcohol? <br> - smoke? <br> - eat a heavy meal? | binary: <br> yes/no  |    | 2x/day, 1th and 5th beep |\n",
    "\n",
    "\n",
    ":  {.striped .hover}\n",
    "\n",
    "  </table>\n",
    "   </div>\n",
    "</details>"
   ]
  },
  {
   "cell_type": "markdown",
   "metadata": {},
   "source": [
    "## Passive Sensor Data\n",
    "\n",
    "### Activity\n",
    "\n",
    "### Heartrate\n",
    "\n",
    "### Sleep\n",
    "\n",
    "### GPS"
   ]
  },
  {
   "cell_type": "markdown",
   "metadata": {},
   "source": [
    "## ECG Data"
   ]
  },
  {
   "cell_type": "markdown",
   "metadata": {},
   "source": []
  }
 ],
 "metadata": {
  "kernelspec": {
   "display_name": "TessaPyEnv",
   "language": "python",
   "name": "python3"
  },
  "language_info": {
   "codemirror_mode": {
    "name": "ipython",
    "version": 3
   },
   "file_extension": ".py",
   "mimetype": "text/x-python",
   "name": "python",
   "nbconvert_exporter": "python",
   "pygments_lexer": "ipython3",
   "version": "3.10.16"
  }
 },
 "nbformat": 4,
 "nbformat_minor": 2
}
